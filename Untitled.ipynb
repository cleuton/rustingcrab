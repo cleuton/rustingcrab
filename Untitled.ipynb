{
 "cells": [
  {
   "cell_type": "code",
   "execution_count": null,
   "id": "7a753fc5-783d-4187-86d2-5a37909eb29c",
   "metadata": {},
   "outputs": [],
   "source": [
    "// Função de exemplo\n",
    "fn fib(n: u64) -> u64 {\n",
    "    match n {\n",
    "        0 | 1 => n,\n",
    "        _ => fib(n-1) + fib(n-2),\n",
    "    }\n",
    "}\n",
    "\n",
    "println!(\"fib(10) = {}\", fib(10));"
   ]
  },
  {
   "cell_type": "code",
   "execution_count": null,
   "id": "b7aa6a8a-9f58-49a8-b221-42e0eb45a4fe",
   "metadata": {},
   "outputs": [],
   "source": []
  }
 ],
 "metadata": {
  "kernelspec": {
   "display_name": "Rust",
   "language": "rust",
   "name": "rust"
  },
  "language_info": {
   "name": ""
  }
 },
 "nbformat": 4,
 "nbformat_minor": 5
}
